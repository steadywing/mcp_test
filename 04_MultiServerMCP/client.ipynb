{
 "cells": [
  {
   "cell_type": "markdown",
   "id": "4b39467b",
   "metadata": {},
   "source": [
    "# 1. `Async with` 활용 코드"
   ]
  },
  {
   "cell_type": "code",
   "execution_count": null,
   "id": "d2a74354",
   "metadata": {},
   "outputs": [],
   "source": [
    "import asyncio \n",
    "from dotenv import load_dotenv\n",
    "\n",
    "from langchain_mcp_adapters.client import MultiServerMCPClient\n",
    "from langgraph.prebuilt import create_react_agent\n",
    "from langchain_openai import ChatOpenAI\n",
    "\n",
    "# 환경변수 불러오기\n",
    "load_dotenv()\n",
    "\n",
    "#-------------------------------------------------------------------\n",
    "# 1. LLM 모델 설정\n",
    "#-------------------------------------------------------------------\n",
    "model = ChatOpenAI(model=\"gpt-4o-mini\")\n",
    "\n",
    "#-------------------------------------------------------------------\n",
    "# 2. 비동기 실행\n",
    "#-------------------------------------------------------------------\n",
    "async with MultiServerMCPClient( \n",
    "    {\n",
    "        \"calculator\": {\n",
    "            \"url\": \"http://0.0.0.0:8005/sse\",\n",
    "            \"transport\": \"sse\"\n",
    "        },\n",
    "        \"rag_server\": {\n",
    "            \"command\": \"/Users/narae/wanted/mcp_exercise/.venv/bin/python\",\n",
    "            \"args\": [\"/Users/narae/wanted/mcp_exercise/03_RAG_stdio/server.py\"],\n",
    "            \"transport\": \"stdio\"\n",
    "        }\n",
    "    }\n",
    ") as client:\n",
    "    agent = create_react_agent(model, client.get_tools())\n",
    "    calculator_response = await agent.ainvoke({\"messages\": \"3 * 5 + 4가 뭐야?\"})\n",
    "    rag_response = await agent.ainvoke({\"messages\": \"딥씨크는 언제 나왔어?\"})"
   ]
  },
  {
   "cell_type": "code",
   "execution_count": 3,
   "id": "44802bec",
   "metadata": {},
   "outputs": [
    {
     "data": {
      "text/plain": [
       "{'messages': [HumanMessage(content='3 * 5 +4가 뭐야?', additional_kwargs={}, response_metadata={}, id='f6202677-2b05-4788-bce5-45ade8e9b5c5'),\n",
       "  AIMessage(content='', additional_kwargs={'tool_calls': [{'id': 'call_DCJKnqzH216bMERGHVUCGyKA', 'function': {'arguments': '{\"a\": 3, \"b\": 5}', 'name': 'multiply'}, 'type': 'function'}, {'id': 'call_AWEj41s0ox1WQMircBrQyryH', 'function': {'arguments': '{\"a\": 15, \"b\": 4}', 'name': 'add'}, 'type': 'function'}], 'refusal': None}, response_metadata={'token_usage': {'completion_tokens': 51, 'prompt_tokens': 115, 'total_tokens': 166, 'completion_tokens_details': {'accepted_prediction_tokens': 0, 'audio_tokens': 0, 'reasoning_tokens': 0, 'rejected_prediction_tokens': 0}, 'prompt_tokens_details': {'audio_tokens': 0, 'cached_tokens': 0}}, 'model_name': 'gpt-4o-mini-2024-07-18', 'system_fingerprint': 'fp_0392822090', 'id': 'chatcmpl-BUTmQlzN0mTN65XwHy2eB5hnwzvM9', 'finish_reason': 'tool_calls', 'logprobs': None}, id='run-eefa4c13-8071-4da1-abf1-533136daf412-0', tool_calls=[{'name': 'multiply', 'args': {'a': 3, 'b': 5}, 'id': 'call_DCJKnqzH216bMERGHVUCGyKA', 'type': 'tool_call'}, {'name': 'add', 'args': {'a': 15, 'b': 4}, 'id': 'call_AWEj41s0ox1WQMircBrQyryH', 'type': 'tool_call'}], usage_metadata={'input_tokens': 115, 'output_tokens': 51, 'total_tokens': 166, 'input_token_details': {'audio': 0, 'cache_read': 0}, 'output_token_details': {'audio': 0, 'reasoning': 0}}),\n",
       "  ToolMessage(content='15', name='multiply', id='afad8f1c-fcfb-4082-b2ac-efb2e161e7cd', tool_call_id='call_DCJKnqzH216bMERGHVUCGyKA'),\n",
       "  ToolMessage(content='19', name='add', id='3b9c08a8-e52c-41f7-b5b9-d8b88e1d4b29', tool_call_id='call_AWEj41s0ox1WQMircBrQyryH'),\n",
       "  AIMessage(content='3 * 5 + 4의 계산 결과는 19입니다.', additional_kwargs={'refusal': None}, response_metadata={'token_usage': {'completion_tokens': 17, 'prompt_tokens': 181, 'total_tokens': 198, 'completion_tokens_details': {'accepted_prediction_tokens': 0, 'audio_tokens': 0, 'reasoning_tokens': 0, 'rejected_prediction_tokens': 0}, 'prompt_tokens_details': {'audio_tokens': 0, 'cached_tokens': 0}}, 'model_name': 'gpt-4o-mini-2024-07-18', 'system_fingerprint': 'fp_0392822090', 'id': 'chatcmpl-BUTmSqjCzZhAj8OBfPSoD9gvLLFod', 'finish_reason': 'stop', 'logprobs': None}, id='run-37b3b582-d94f-4903-902f-4d57db1c88d1-0', usage_metadata={'input_tokens': 181, 'output_tokens': 17, 'total_tokens': 198, 'input_token_details': {'audio': 0, 'cache_read': 0}, 'output_token_details': {'audio': 0, 'reasoning': 0}})]}"
      ]
     },
     "execution_count": 3,
     "metadata": {},
     "output_type": "execute_result"
    }
   ],
   "source": [
    "calculator_response"
   ]
  },
  {
   "cell_type": "code",
   "execution_count": 4,
   "id": "725a4b0c",
   "metadata": {},
   "outputs": [
    {
     "data": {
      "text/plain": [
       "{'messages': [HumanMessage(content='딥씨크는 언제 나왔어?', additional_kwargs={}, response_metadata={}, id='d411b9e8-f307-4d2c-a297-1a32df3e5822'),\n",
       "  AIMessage(content='', additional_kwargs={'tool_calls': [{'id': 'call_4lZ54idGJPe1NJBb3QtYWQNF', 'function': {'arguments': '{\"question\":\"딥씨크는 언제 나왔어?\"}', 'name': 'rag_qa'}, 'type': 'function'}], 'refusal': None}, response_metadata={'token_usage': {'completion_tokens': 26, 'prompt_tokens': 115, 'total_tokens': 141, 'completion_tokens_details': {'accepted_prediction_tokens': 0, 'audio_tokens': 0, 'reasoning_tokens': 0, 'rejected_prediction_tokens': 0}, 'prompt_tokens_details': {'audio_tokens': 0, 'cached_tokens': 0}}, 'model_name': 'gpt-4o-mini-2024-07-18', 'system_fingerprint': 'fp_0392822090', 'id': 'chatcmpl-BUTmT2xdlt7Vzw14Md8ztLrW9fPYy', 'finish_reason': 'tool_calls', 'logprobs': None}, id='run-8f0282b7-7ad0-4c37-be64-0211d72ef4ac-0', tool_calls=[{'name': 'rag_qa', 'args': {'question': '딥씨크는 언제 나왔어?'}, 'id': 'call_4lZ54idGJPe1NJBb3QtYWQNF', 'type': 'tool_call'}], usage_metadata={'input_tokens': 115, 'output_tokens': 26, 'total_tokens': 141, 'input_token_details': {'audio': 0, 'cache_read': 0}, 'output_token_details': {'audio': 0, 'reasoning': 0}}),\n",
       "  ToolMessage(content=\"£ 2025년  1월  20일,  중국의  스타트업인  딥시크(창업자:  량원평)가  전세계  AI  산업계에  상당한 파급력을 갖는 DeepSeek-R1 모델(이하 R1 모델)을 출시 1)2)\\n∙ 딥시크의 추론형 AI 모델 'R1'과 'R1-Zero'*는 AI 연구 커뮤니티와 업계 관계자들 사이에서 상당한 화제로 부상 3)\\n* R1-Zero는  강화학습만으로  학습된  모델로  지도학습  기반  파인튜닝(Supervised  Fine-Tuning,  SFT)  없이  스스로  문제 해결하는  모델이며,  반면에  R1은  소량의  콜드스타트(Cold-start)  데이터와  다단계  학습  과정을  통해  더욱  향상된  성능과 가독성을 제공하는 모델\\n∙ 딥시크는 R1 모델 발표와 함께 AI 산업에서 핵심 플레이어 중 하나로 빠르게 자리 잡아가고 있으며 가성비 높은 AI 모델로서의 입지를 구축해가는 추세\\n딥시크(DeepSeek)의 등장과 영향\\n최근 중국의 스타트업인 딥시크는 DeepSeek-R1 모델을 출시하며 크게 주목받고 있다. 딥시크가 개발한 AI  모델은  중국  내에서는  AI  독립성을  강화하는  기술로  평가되고, 벤치마킹  결과  특정  작업에서  오픈AI의  GPT-4와  경쟁할  수  있는  성능을  보였다고 보고하지만, 국제적으로는 정책 검열, 보안, 개인정보보호 관련 우려가 제기된다. 미국, 유럽 등 여러 국가에서 데이터 보안 및 개인정보 보호 문제로 딥시크의 사용을 제한하는 조치가 확대되고 있다. 이러한 논란 속에서도 딥시크는 AI 시장의 새로운 경쟁 구도를 형성하고 있으며, 향후 글로벌 AI 산업의 변화에 중대한 영향을 미칠 것으로 전망된다.\\n£ 딥시크의 오픈소스 모델 버전에는 보안 취약점이 존재하여, 악의적인 행위자들에게 악용될 위험을 보유\\n∙ 딥시크의 오픈소스 모델은 코드와 학습된 AI 모델이 공개되어 있어 누구나 접근하여 연구하고 사용할 수 있는 장점이 있지만, 동시에 악의적인 행위자들이 취약점을 분석하고 악용할 가능성도 내포\\n∙ 2025년 1월 R1 모델이 공개된 이후 딥시크는 사이버공격을 경험하였고, 보안 취약점도 발견\\n* 딥시크는  2025년  1월에  최신  오픈소스  모델인  R1  모델을  표적으로  삼은  심각한  분산  서비스  거부(DDoS)  공격을 경험하였으며, 이로 인해 딥시크 공식 웹사이트가 48시간 동안 다운됨 33)\\n* 2025년  1월  31일,  딥시크의  CDN  엔드포인트에서  크로스  사이트  스크립팅(XSS)  취약점이  확인되었으며,  이  취약점은 공격자가 적절한 출처 검증 없이 문서 컨텍스트에 악성 스크립트를 삽입할 수 있게 함 34)\\n∙ 마이크로소프트(MS)는 애저(Azure)를 통해 딥시크의 'R1'을 서비스하며, 모델 동작에 대한 자동 평가 및 잠재적 위험 완화를 위한 광범위한 보안 검토와 함께 철저한 레드팀 및 안전 평가를 거쳤다고 강조 35)\\n29) DeepSeek-AI, DeepSeek-R1 Release, 2025.1.20.\\n30) SemiAnalysis, Seek Debates: Chinese Leadership On Cost, True Training Cost, Closed Model Margin Impacts, 2025.1.31.\\n31) AP news, Italy blocks access to the Chinese AI application DeepSeek to protect users' data, 2025.1.31.\\n32) 국정원, 「딥시크」 서비스 활용시 보안유의 강조, 2025.2.9.\\n33) Global Times, Cyberattacks against DeepSeek escalate with botnets joining, command surging over 100 times: lab, 2025.1.30.\\n34) Cybernews, How Deepseek's security failures shape the future of cyber defense on AI, 2025.2.10.\\n35) Microsoft, Securing DeepSeek and other AI systems with Microsoft Security, 2025.2.13.\\n£ (대규모  AI  모델  학습  방법의  전환  가능성)  딥시크는  MoE  등의  혁신적인  기술을  활용하여 AI  모델  학습  방식의  변화를  촉발할  수  있음\\n∙ 미래의 AI 모델들은 연산 비용을 최소화하면서도 성능을 유지할 수 있는 유사한 최적화 기법을 도입하는 사례가 증가할 전망\\n∙ 딥시크가 출시되기 전에 주요 AI 모델의 비용은 지난 2년 동안 연간 기준으로 이미 약 80% 하락했으며, 딥시크는 이러한 추세를 가속화할 것으로 예상\\n*  출처:  reuters.com 46)\\n<주요 AI  모델의 토큰 가격(단위: 달러/백만 토큰)>\", name='rag_qa', id='8e5f4c04-f1b5-478b-96a4-076887bbdfd6', tool_call_id='call_4lZ54idGJPe1NJBb3QtYWQNF'),\n",
       "  AIMessage(content='딥씨크(DeepSeek)는 2025년 1월 20일에 출시되었습니다. 이 모델은 AI 산업에 큰 영향을 미치고 있으며, R1 모델과 R1-Zero 모델로 구성되어 있습니다. R1 모델은 소량의 데이터를 활용하여 성능을 개선한 반면, R1-Zero는 강화학습을 통해 스스로 문제를 해결하는 모델입니다.', additional_kwargs={'refusal': None}, response_metadata={'token_usage': {'completion_tokens': 88, 'prompt_tokens': 1392, 'total_tokens': 1480, 'completion_tokens_details': {'accepted_prediction_tokens': 0, 'audio_tokens': 0, 'reasoning_tokens': 0, 'rejected_prediction_tokens': 0}, 'prompt_tokens_details': {'audio_tokens': 0, 'cached_tokens': 0}}, 'model_name': 'gpt-4o-mini-2024-07-18', 'system_fingerprint': 'fp_0392822090', 'id': 'chatcmpl-BUTmYxvrY3LsQcljuZWwOy87ydLHf', 'finish_reason': 'stop', 'logprobs': None}, id='run-d836c5a9-0e75-4815-bef7-518e3469e881-0', usage_metadata={'input_tokens': 1392, 'output_tokens': 88, 'total_tokens': 1480, 'input_token_details': {'audio': 0, 'cache_read': 0}, 'output_token_details': {'audio': 0, 'reasoning': 0}})]}"
      ]
     },
     "execution_count": 4,
     "metadata": {},
     "output_type": "execute_result"
    }
   ],
   "source": [
    "rag_response"
   ]
  },
  {
   "cell_type": "markdown",
   "id": "abf8837f",
   "metadata": {},
   "source": [
    "# 2. `Async with` 없는 코드"
   ]
  },
  {
   "cell_type": "markdown",
   "id": "3b9b2847",
   "metadata": {},
   "source": [
    "`async with`를 사용하게 되면 코드가 끝난 이후 session이 닫혔기 때문에 도구에 다시 접근할 수 없다."
   ]
  },
  {
   "cell_type": "code",
   "execution_count": 5,
   "id": "6aed922d",
   "metadata": {},
   "outputs": [
    {
     "data": {
      "text/plain": [
       "<langchain_mcp_adapters.client.MultiServerMCPClient at 0x11566ce50>"
      ]
     },
     "execution_count": 5,
     "metadata": {},
     "output_type": "execute_result"
    }
   ],
   "source": [
    "import asyncio \n",
    "from dotenv import load_dotenv\n",
    "\n",
    "from langchain_mcp_adapters.client import MultiServerMCPClient\n",
    "from langgraph.prebuilt import create_react_agent\n",
    "from langchain_openai import ChatOpenAI\n",
    "\n",
    "# 환경변수 불러오기\n",
    "load_dotenv()\n",
    "\n",
    "#-------------------------------------------------------------------\n",
    "# 1. LLM 모델 설정\n",
    "#-------------------------------------------------------------------\n",
    "model = ChatOpenAI(model=\"gpt-4o-mini\")\n",
    "\n",
    "#-------------------------------------------------------------------\n",
    "# 2. 클라이언트 생성\n",
    "#-------------------------------------------------------------------\n",
    "client = MultiServerMCPClient( \n",
    "    {\n",
    "        \"calculator\": {\n",
    "            \"url\": \"http://0.0.0.0:8005/sse\",\n",
    "            \"transport\": \"sse\"\n",
    "        },\n",
    "        \"rag_server\": {\n",
    "            \"command\": \"/Users/narae/wanted/mcp_exercise/.venv/bin/python\",\n",
    "            \"args\": [\"/Users/narae/wanted/mcp_exercise/03_RAG_stdio/server.py\"],\n",
    "            \"transport\": \"stdio\"\n",
    "        }\n",
    "    }\n",
    ")\n",
    "client"
   ]
  },
  {
   "cell_type": "code",
   "execution_count": 7,
   "id": "aac59402",
   "metadata": {},
   "outputs": [
    {
     "name": "stdout",
     "output_type": "stream",
     "text": [
      "[]\n"
     ]
    }
   ],
   "source": [
    "# 클라이언트 도구 출력\n",
    "print(client.get_tools())  "
   ]
  },
  {
   "cell_type": "code",
   "execution_count": 8,
   "id": "0f78735c",
   "metadata": {},
   "outputs": [
    {
     "data": {
      "text/plain": [
       "<langchain_mcp_adapters.client.MultiServerMCPClient at 0x11566ce50>"
      ]
     },
     "execution_count": 8,
     "metadata": {},
     "output_type": "execute_result"
    }
   ],
   "source": [
    "#-------------------------------------------------------------------\n",
    "# 3. 클라이언트 연결 초기화\n",
    "#-------------------------------------------------------------------\n",
    "await client.__aenter__()"
   ]
  },
  {
   "cell_type": "code",
   "execution_count": 9,
   "id": "543624b7",
   "metadata": {},
   "outputs": [
    {
     "name": "stdout",
     "output_type": "stream",
     "text": [
      "[StructuredTool(name='add', description='덧셈하는 함수', args_schema={'properties': {'a': {'title': 'A', 'type': 'integer'}, 'b': {'title': 'B', 'type': 'integer'}}, 'required': ['a', 'b'], 'title': 'addArguments', 'type': 'object'}, response_format='content_and_artifact', coroutine=<function convert_mcp_tool_to_langchain_tool.<locals>.call_tool at 0x115692700>), StructuredTool(name='multiply', description='곱셈하는 함수', args_schema={'properties': {'a': {'title': 'A', 'type': 'integer'}, 'b': {'title': 'B', 'type': 'integer'}}, 'required': ['a', 'b'], 'title': 'multiplyArguments', 'type': 'object'}, response_format='content_and_artifact', coroutine=<function convert_mcp_tool_to_langchain_tool.<locals>.call_tool at 0x115692480>), StructuredTool(name='rag_qa', description='벡터 검색 기반 RAG QA. 질문을 입력하면 관련 문서를 검색합니다.', args_schema={'properties': {'question': {'title': 'Question', 'type': 'string'}}, 'required': ['question'], 'title': 'rag_qaArguments', 'type': 'object'}, response_format='content_and_artifact', coroutine=<function convert_mcp_tool_to_langchain_tool.<locals>.call_tool at 0x115693ce0>)]\n"
     ]
    }
   ],
   "source": [
    "# 클라이언트 도구 출력\n",
    "print(client.get_tools())  "
   ]
  },
  {
   "cell_type": "code",
   "execution_count": 10,
   "id": "53a13c31",
   "metadata": {},
   "outputs": [
    {
     "data": {
      "image/png": "[encoded data removed]",
      "text/plain": [
       "<langgraph.graph.state.CompiledStateGraph object at 0x1156aadd0>"
      ]
     },
     "execution_count": 10,
     "metadata": {},
     "output_type": "execute_result"
    }
   ],
   "source": [
    "#-------------------------------------------------------------------\n",
    "# 4. Agent 생성\n",
    "#-------------------------------------------------------------------\n",
    "agent = create_react_agent(model, client.get_tools())\n",
    "agent"
   ]
  },
  {
   "cell_type": "code",
   "execution_count": null,
   "id": "79e9ebd9",
   "metadata": {},
   "outputs": [],
   "source": [
    "#-------------------------------------------------------------------\n",
    "# 5. 사용자 질문에 따른 응답 생성\n",
    "#-------------------------------------------------------------------\n",
    "calculator_response = await agent.ainvoke({\"messages\": \"3 * 5 + 4가 뭐야?\"})\n",
    "rag_response = await agent.ainvoke({\"messages\": \"딥씨크는 언제 나왔어?\"})"
   ]
  },
  {
   "cell_type": "code",
   "execution_count": 12,
   "id": "528bf283",
   "metadata": {},
   "outputs": [
    {
     "data": {
      "text/plain": [
       "{'messages': [HumanMessage(content='3 * 5 + 4가 뭐야?', additional_kwargs={}, response_metadata={}, id='ec5ed89a-c0de-4a84-b194-22a8fa116ab3'),\n",
       "  AIMessage(content='', additional_kwargs={'tool_calls': [{'id': 'call_1ItWYiUabLzBFKd1QiUmDzIq', 'function': {'arguments': '{\"a\": 3, \"b\": 5}', 'name': 'multiply'}, 'type': 'function'}, {'id': 'call_z2i9fr2XneWVoZ4nQpdT11zX', 'function': {'arguments': '{\"a\": 15, \"b\": 4}', 'name': 'add'}, 'type': 'function'}], 'refusal': None}, response_metadata={'token_usage': {'completion_tokens': 51, 'prompt_tokens': 116, 'total_tokens': 167, 'completion_tokens_details': {'accepted_prediction_tokens': 0, 'audio_tokens': 0, 'reasoning_tokens': 0, 'rejected_prediction_tokens': 0}, 'prompt_tokens_details': {'audio_tokens': 0, 'cached_tokens': 0}}, 'model_name': 'gpt-4o-mini-2024-07-18', 'system_fingerprint': 'fp_0392822090', 'id': 'chatcmpl-BUkay1v8n7dsrIGDDsGGNbvwz0RfL', 'finish_reason': 'tool_calls', 'logprobs': None}, id='run-273e2bb5-1abd-448a-a20a-d76713d788f9-0', tool_calls=[{'name': 'multiply', 'args': {'a': 3, 'b': 5}, 'id': 'call_1ItWYiUabLzBFKd1QiUmDzIq', 'type': 'tool_call'}, {'name': 'add', 'args': {'a': 15, 'b': 4}, 'id': 'call_z2i9fr2XneWVoZ4nQpdT11zX', 'type': 'tool_call'}], usage_metadata={'input_tokens': 116, 'output_tokens': 51, 'total_tokens': 167, 'input_token_details': {'audio': 0, 'cache_read': 0}, 'output_token_details': {'audio': 0, 'reasoning': 0}}),\n",
       "  ToolMessage(content='15', name='multiply', id='0531e02d-94fc-4bab-a876-9ffe8ae93872', tool_call_id='call_1ItWYiUabLzBFKd1QiUmDzIq'),\n",
       "  ToolMessage(content='19', name='add', id='1ec177fc-f9f5-4bfe-bc4c-287418dfc303', tool_call_id='call_z2i9fr2XneWVoZ4nQpdT11zX'),\n",
       "  AIMessage(content='3 * 5 + 4는 19입니다.', additional_kwargs={'refusal': None}, response_metadata={'token_usage': {'completion_tokens': 14, 'prompt_tokens': 182, 'total_tokens': 196, 'completion_tokens_details': {'accepted_prediction_tokens': 0, 'audio_tokens': 0, 'reasoning_tokens': 0, 'rejected_prediction_tokens': 0}, 'prompt_tokens_details': {'audio_tokens': 0, 'cached_tokens': 0}}, 'model_name': 'gpt-4o-mini-2024-07-18', 'system_fingerprint': 'fp_0392822090', 'id': 'chatcmpl-BUkb0nY92VOZun8PXz1Sn21uuYOpy', 'finish_reason': 'stop', 'logprobs': None}, id='run-00b652ce-0e81-47e0-ad07-c065a00285b3-0', usage_metadata={'input_tokens': 182, 'output_tokens': 14, 'total_tokens': 196, 'input_token_details': {'audio': 0, 'cache_read': 0}, 'output_token_details': {'audio': 0, 'reasoning': 0}})]}"
      ]
     },
     "execution_count": 12,
     "metadata": {},
     "output_type": "execute_result"
    }
   ],
   "source": [
    "calculator_response"
   ]
  },
  {
   "cell_type": "code",
   "execution_count": 13,
   "id": "8674f1fb",
   "metadata": {},
   "outputs": [
    {
     "data": {
      "text/plain": [
       "{'messages': [HumanMessage(content='딥씨크는 언제 나왔어?', additional_kwargs={}, response_metadata={}, id='4b963276-64bd-4e15-a113-10385ec24ee3'),\n",
       "  AIMessage(content='', additional_kwargs={'tool_calls': [{'id': 'call_0s1ZE8XJDR1eLYtbNyNycr9B', 'function': {'arguments': '{\"question\":\"딥씨크는 언제 나왔어?\"}', 'name': 'rag_qa'}, 'type': 'function'}], 'refusal': None}, response_metadata={'token_usage': {'completion_tokens': 26, 'prompt_tokens': 115, 'total_tokens': 141, 'completion_tokens_details': {'accepted_prediction_tokens': 0, 'audio_tokens': 0, 'reasoning_tokens': 0, 'rejected_prediction_tokens': 0}, 'prompt_tokens_details': {'audio_tokens': 0, 'cached_tokens': 0}}, 'model_name': 'gpt-4o-mini-2024-07-18', 'system_fingerprint': 'fp_0392822090', 'id': 'chatcmpl-BUkb1wydR9HvfI04EBNIm2fhGY6yF', 'finish_reason': 'tool_calls', 'logprobs': None}, id='run-f511a0cc-ca90-44d2-8f21-719fb5db4692-0', tool_calls=[{'name': 'rag_qa', 'args': {'question': '딥씨크는 언제 나왔어?'}, 'id': 'call_0s1ZE8XJDR1eLYtbNyNycr9B', 'type': 'tool_call'}], usage_metadata={'input_tokens': 115, 'output_tokens': 26, 'total_tokens': 141, 'input_token_details': {'audio': 0, 'cache_read': 0}, 'output_token_details': {'audio': 0, 'reasoning': 0}}),\n",
       "  ToolMessage(content=\"£ 2025년  1월  20일,  중국의  스타트업인  딥시크(창업자:  량원평)가  전세계  AI  산업계에  상당한 파급력을 갖는 DeepSeek-R1 모델(이하 R1 모델)을 출시 1)2)\\n∙ 딥시크의 추론형 AI 모델 'R1'과 'R1-Zero'*는 AI 연구 커뮤니티와 업계 관계자들 사이에서 상당한 화제로 부상 3)\\n* R1-Zero는  강화학습만으로  학습된  모델로  지도학습  기반  파인튜닝(Supervised  Fine-Tuning,  SFT)  없이  스스로  문제 해결하는  모델이며,  반면에  R1은  소량의  콜드스타트(Cold-start)  데이터와  다단계  학습  과정을  통해  더욱  향상된  성능과 가독성을 제공하는 모델\\n∙ 딥시크는 R1 모델 발표와 함께 AI 산업에서 핵심 플레이어 중 하나로 빠르게 자리 잡아가고 있으며 가성비 높은 AI 모델로서의 입지를 구축해가는 추세\\n딥시크(DeepSeek)의 등장과 영향\\n최근 중국의 스타트업인 딥시크는 DeepSeek-R1 모델을 출시하며 크게 주목받고 있다. 딥시크가 개발한 AI  모델은  중국  내에서는  AI  독립성을  강화하는  기술로  평가되고, 벤치마킹  결과  특정  작업에서  오픈AI의  GPT-4와  경쟁할  수  있는  성능을  보였다고 보고하지만, 국제적으로는 정책 검열, 보안, 개인정보보호 관련 우려가 제기된다. 미국, 유럽 등 여러 국가에서 데이터 보안 및 개인정보 보호 문제로 딥시크의 사용을 제한하는 조치가 확대되고 있다. 이러한 논란 속에서도 딥시크는 AI 시장의 새로운 경쟁 구도를 형성하고 있으며, 향후 글로벌 AI 산업의 변화에 중대한 영향을 미칠 것으로 전망된다.\\n£ 딥시크의 오픈소스 모델 버전에는 보안 취약점이 존재하여, 악의적인 행위자들에게 악용될 위험을 보유\\n∙ 딥시크의 오픈소스 모델은 코드와 학습된 AI 모델이 공개되어 있어 누구나 접근하여 연구하고 사용할 수 있는 장점이 있지만, 동시에 악의적인 행위자들이 취약점을 분석하고 악용할 가능성도 내포\\n∙ 2025년 1월 R1 모델이 공개된 이후 딥시크는 사이버공격을 경험하였고, 보안 취약점도 발견\\n* 딥시크는  2025년  1월에  최신  오픈소스  모델인  R1  모델을  표적으로  삼은  심각한  분산  서비스  거부(DDoS)  공격을 경험하였으며, 이로 인해 딥시크 공식 웹사이트가 48시간 동안 다운됨 33)\\n* 2025년  1월  31일,  딥시크의  CDN  엔드포인트에서  크로스  사이트  스크립팅(XSS)  취약점이  확인되었으며,  이  취약점은 공격자가 적절한 출처 검증 없이 문서 컨텍스트에 악성 스크립트를 삽입할 수 있게 함 34)\\n∙ 마이크로소프트(MS)는 애저(Azure)를 통해 딥시크의 'R1'을 서비스하며, 모델 동작에 대한 자동 평가 및 잠재적 위험 완화를 위한 광범위한 보안 검토와 함께 철저한 레드팀 및 안전 평가를 거쳤다고 강조 35)\\n29) DeepSeek-AI, DeepSeek-R1 Release, 2025.1.20.\\n30) SemiAnalysis, Seek Debates: Chinese Leadership On Cost, True Training Cost, Closed Model Margin Impacts, 2025.1.31.\\n31) AP news, Italy blocks access to the Chinese AI application DeepSeek to protect users' data, 2025.1.31.\\n32) 국정원, 「딥시크」 서비스 활용시 보안유의 강조, 2025.2.9.\\n33) Global Times, Cyberattacks against DeepSeek escalate with botnets joining, command surging over 100 times: lab, 2025.1.30.\\n34) Cybernews, How Deepseek's security failures shape the future of cyber defense on AI, 2025.2.10.\\n35) Microsoft, Securing DeepSeek and other AI systems with Microsoft Security, 2025.2.13.\\n£ (대규모  AI  모델  학습  방법의  전환  가능성)  딥시크는  MoE  등의  혁신적인  기술을  활용하여 AI  모델  학습  방식의  변화를  촉발할  수  있음\\n∙ 미래의 AI 모델들은 연산 비용을 최소화하면서도 성능을 유지할 수 있는 유사한 최적화 기법을 도입하는 사례가 증가할 전망\\n∙ 딥시크가 출시되기 전에 주요 AI 모델의 비용은 지난 2년 동안 연간 기준으로 이미 약 80% 하락했으며, 딥시크는 이러한 추세를 가속화할 것으로 예상\\n*  출처:  reuters.com 46)\\n<주요 AI  모델의 토큰 가격(단위: 달러/백만 토큰)>\", name='rag_qa', id='32e776ba-a832-4a02-aff5-29af41d67a79', tool_call_id='call_0s1ZE8XJDR1eLYtbNyNycr9B'),\n",
       "  AIMessage(content='딥씨크(DeepSeek)는 2025년 1월 20일에 출시되었습니다. 이 모델은 AI 산업에 중요한 영향을 미치는 것으로 평가받고 있습니다.', additional_kwargs={'refusal': None}, response_metadata={'token_usage': {'completion_tokens': 40, 'prompt_tokens': 1392, 'total_tokens': 1432, 'completion_tokens_details': {'accepted_prediction_tokens': 0, 'audio_tokens': 0, 'reasoning_tokens': 0, 'rejected_prediction_tokens': 0}, 'prompt_tokens_details': {'audio_tokens': 0, 'cached_tokens': 0}}, 'model_name': 'gpt-4o-mini-2024-07-18', 'system_fingerprint': 'fp_0392822090', 'id': 'chatcmpl-BUkb4aXyNfcTsnw1REIDe8WXGnpO8', 'finish_reason': 'stop', 'logprobs': None}, id='run-6d5b8904-cd88-4f47-aec1-a74863101ab1-0', usage_metadata={'input_tokens': 1392, 'output_tokens': 40, 'total_tokens': 1432, 'input_token_details': {'audio': 0, 'cache_read': 0}, 'output_token_details': {'audio': 0, 'reasoning': 0}})]}"
      ]
     },
     "execution_count": 13,
     "metadata": {},
     "output_type": "execute_result"
    }
   ],
   "source": [
    "rag_response"
   ]
  },
  {
   "cell_type": "code",
   "execution_count": 15,
   "id": "474cbef7",
   "metadata": {},
   "outputs": [
    {
     "data": {
      "text/plain": [
       "{'messages': [HumanMessage(content='딥씨크가 뭐야? 아 그전에 먼저 5 * 6 + 3의 값도 계산해줘. 모든 답변은 도구를 이용해줘', additional_kwargs={}, response_metadata={}, id='54668edc-5ada-4b70-8358-2b6c38837226'),\n",
       "  AIMessage(content='', additional_kwargs={'tool_calls': [{'id': 'call_RTVUVpe9ykZi6E6gdt6CCsQU', 'function': {'arguments': '{\"a\":5,\"b\":6}', 'name': 'multiply'}, 'type': 'function'}], 'refusal': None}, response_metadata={'token_usage': {'completion_tokens': 18, 'prompt_tokens': 142, 'total_tokens': 160, 'completion_tokens_details': {'accepted_prediction_tokens': 0, 'audio_tokens': 0, 'reasoning_tokens': 0, 'rejected_prediction_tokens': 0}, 'prompt_tokens_details': {'audio_tokens': 0, 'cached_tokens': 0}}, 'model_name': 'gpt-4o-mini-2024-07-18', 'system_fingerprint': 'fp_0392822090', 'id': 'chatcmpl-BUkd1rtKVxMfO0SjQnZwj92G5zWrS', 'finish_reason': 'tool_calls', 'logprobs': None}, id='run-3582716b-0861-4fc0-aa5e-a26503494606-0', tool_calls=[{'name': 'multiply', 'args': {'a': 5, 'b': 6}, 'id': 'call_RTVUVpe9ykZi6E6gdt6CCsQU', 'type': 'tool_call'}], usage_metadata={'input_tokens': 142, 'output_tokens': 18, 'total_tokens': 160, 'input_token_details': {'audio': 0, 'cache_read': 0}, 'output_token_details': {'audio': 0, 'reasoning': 0}}),\n",
       "  ToolMessage(content='30', name='multiply', id='1eea0c2d-9dcc-452a-9295-37751f48defb', tool_call_id='call_RTVUVpe9ykZi6E6gdt6CCsQU'),\n",
       "  AIMessage(content='', additional_kwargs={'tool_calls': [{'id': 'call_guHU9p5LkzrRj5BkWYOVBlcU', 'function': {'arguments': '{\"a\":30,\"b\":3}', 'name': 'add'}, 'type': 'function'}], 'refusal': None}, response_metadata={'token_usage': {'completion_tokens': 18, 'prompt_tokens': 167, 'total_tokens': 185, 'completion_tokens_details': {'accepted_prediction_tokens': 0, 'audio_tokens': 0, 'reasoning_tokens': 0, 'rejected_prediction_tokens': 0}, 'prompt_tokens_details': {'audio_tokens': 0, 'cached_tokens': 0}}, 'model_name': 'gpt-4o-mini-2024-07-18', 'system_fingerprint': 'fp_0392822090', 'id': 'chatcmpl-BUkd2H1VGiN5kFLysXOrRqmIKqYSu', 'finish_reason': 'tool_calls', 'logprobs': None}, id='run-597ff69e-b0fc-4105-a59b-5a48fccf4e0c-0', tool_calls=[{'name': 'add', 'args': {'a': 30, 'b': 3}, 'id': 'call_guHU9p5LkzrRj5BkWYOVBlcU', 'type': 'tool_call'}], usage_metadata={'input_tokens': 167, 'output_tokens': 18, 'total_tokens': 185, 'input_token_details': {'audio': 0, 'cache_read': 0}, 'output_token_details': {'audio': 0, 'reasoning': 0}}),\n",
       "  ToolMessage(content='33', name='add', id='830b0ef3-d6e7-456c-a2b6-824274f61174', tool_call_id='call_guHU9p5LkzrRj5BkWYOVBlcU'),\n",
       "  AIMessage(content='', additional_kwargs={'tool_calls': [{'id': 'call_wd9MVGMhq8evN8NIpiLvSLQh', 'function': {'arguments': '{\"question\":\"딥씨크가 뭐야?\"}', 'name': 'rag_qa'}, 'type': 'function'}], 'refusal': None}, response_metadata={'token_usage': {'completion_tokens': 24, 'prompt_tokens': 192, 'total_tokens': 216, 'completion_tokens_details': {'accepted_prediction_tokens': 0, 'audio_tokens': 0, 'reasoning_tokens': 0, 'rejected_prediction_tokens': 0}, 'prompt_tokens_details': {'audio_tokens': 0, 'cached_tokens': 0}}, 'model_name': 'gpt-4o-mini-2024-07-18', 'system_fingerprint': 'fp_0392822090', 'id': 'chatcmpl-BUkd37HE7MNyDOtE3IdLvjogLktZe', 'finish_reason': 'tool_calls', 'logprobs': None}, id='run-b4e459c8-b378-40b9-af24-9478203ce613-0', tool_calls=[{'name': 'rag_qa', 'args': {'question': '딥씨크가 뭐야?'}, 'id': 'call_wd9MVGMhq8evN8NIpiLvSLQh', 'type': 'tool_call'}], usage_metadata={'input_tokens': 192, 'output_tokens': 24, 'total_tokens': 216, 'input_token_details': {'audio': 0, 'cache_read': 0}, 'output_token_details': {'audio': 0, 'reasoning': 0}}),\n",
       "  ToolMessage(content=\"딥시크(DeepSeek)의 등장과 영향\\n최근 중국의 스타트업인 딥시크는 DeepSeek-R1 모델을 출시하며 크게 주목받고 있다. 딥시크가 개발한 AI  모델은  중국  내에서는  AI  독립성을  강화하는  기술로  평가되고, 벤치마킹  결과  특정  작업에서  오픈AI의  GPT-4와  경쟁할  수  있는  성능을  보였다고 보고하지만, 국제적으로는 정책 검열, 보안, 개인정보보호 관련 우려가 제기된다. 미국, 유럽 등 여러 국가에서 데이터 보안 및 개인정보 보호 문제로 딥시크의 사용을 제한하는 조치가 확대되고 있다. 이러한 논란 속에서도 딥시크는 AI 시장의 새로운 경쟁 구도를 형성하고 있으며, 향후 글로벌 AI 산업의 변화에 중대한 영향을 미칠 것으로 전망된다.\\n£ 2025년  1월  20일,  중국의  스타트업인  딥시크(창업자:  량원평)가  전세계  AI  산업계에  상당한 파급력을 갖는 DeepSeek-R1 모델(이하 R1 모델)을 출시 1)2)\\n∙ 딥시크의 추론형 AI 모델 'R1'과 'R1-Zero'*는 AI 연구 커뮤니티와 업계 관계자들 사이에서 상당한 화제로 부상 3)\\n* R1-Zero는  강화학습만으로  학습된  모델로  지도학습  기반  파인튜닝(Supervised  Fine-Tuning,  SFT)  없이  스스로  문제 해결하는  모델이며,  반면에  R1은  소량의  콜드스타트(Cold-start)  데이터와  다단계  학습  과정을  통해  더욱  향상된  성능과 가독성을 제공하는 모델\\n∙ 딥시크는 R1 모델 발표와 함께 AI 산업에서 핵심 플레이어 중 하나로 빠르게 자리 잡아가고 있으며 가성비 높은 AI 모델로서의 입지를 구축해가는 추세\\n2)  기술적  강점과  한계\\n£ (강점)  딥시크는  중국어  자연어  처리에서  강점을  보이며,  컴퓨팅  인프라가  제한된  기업에도 적합하고, 유연한 오픈소스 전략으로 중국 AI 생태계 내에서 널리 채택\\n∙ 딥시크는 자연어 처리 작업에서 우수한 성능을 보이며, 특히 중국어 기반 작업에서 두각을 나타냄 25)\\n∙ 상대적으로 낮은 하드웨어 요구사항으로 컴퓨팅 인프라가 제한적인 기업에 적합 26)\\n∙ 딥시크는 유연한 오픈소스 전략으로 중국 AI 생태계 내에서 광범위한 도입 진행 중\\n* BYD를  포함한  자동차  제조업체  8곳,  최소  9개의  금융증권  회사,  국유  통신  사업자  3곳이  딥시크와의  통합을  추진하고, 클라우드 컴퓨팅 사업자 알리바바, 화웨이, 텐센트, 바이두는 고객이 딥시크의 최신 모델을 이용하는 방법을 제공\\n24) Bain & Company, DeepSeek: A Game Changer in AI Efficiency?, 2025.2.5.\\n25) DeepSeek-AI, DeepSeek-R1: Incentivizing Reasoning Capability in LLMs via Reinforcement Learning, 2025.1.22.\\n26)  Financial times, Transcript: Tech in 2025 - China's AI 'Sputnik moment', 2025.1.30.\\n£ (한계) 딥시크는  텍스트  및  수치  데이터  처리에  강점을  갖지만,  멀티모달  기능이 제한적이며, 중국의 규제로 인해 정치적으로 민감한 주제에 대한 응답을 제한 27)28)\\n∙ 딥시크는 주로 텍스트 및 수치 데이터 처리에 중점을 두어 멀티모달 기능이 제한적인 반면, 구글 Gemini는 텍스트, 이미지, 오디오, 비디오 입력을 처리할 수 있는 멀티모달 기능을 갖추고 있음\\n∙ 딥시크는 중국의 규제 환경에서 운영되어 정치적으로 민감한 주제에 대한 응답이 제한적이므로 표현의 자유를 중시하는 국가에서는 딥시크의 도입에 대해 부정적일 수 있음\", name='rag_qa', id='751cff64-67e1-4f1d-8bf7-17fa3481fa2d', tool_call_id='call_wd9MVGMhq8evN8NIpiLvSLQh'),\n",
       "  AIMessage(content='5 * 6 + 3의 값은 **33**입니다.\\n\\n딥씨크(DeepSeek)는 최근 중국의 스타트업으로, DeepSeek-R1 모델을 출시하며 주목받고 있습니다. 이 AI 모델은 중국 내에서 AI 독립성을 강화하는 기술로 평가되며, 특정 작업에서 오픈AI의 GPT-4와 경쟁할 수 있는 성능을 보였다고 reports하지만, 국제적으로는 정책 검열, 보안 및 개인정보 보호에 대한 우려가 제기되고 있습니다. 미국과 유럽 등 여러 나라에서는 데이터 보안 및 개인정보 보호 문제로 딥씨크의 사용을 제한하는 조치를 확대하고 있습니다.\\n\\n딥씨크는 자연어 처리에서 강점을 보이며 상대적으로 낮은 하드웨어 요구 사항으로 다양한 기업에 적합하고, 유연한 오픈소스 전략으로 중국 AI 생태계 내에서 채택되고 있습니다. 하지만, 정치적으로 민감한 주제에 대한 응답이 제한되기도 하여 표현의 자유를 중시하는 국가에서는 부정적인 시각을 받을 수 있습니다.', additional_kwargs={'refusal': None}, response_metadata={'token_usage': {'completion_tokens': 232, 'prompt_tokens': 1251, 'total_tokens': 1483, 'completion_tokens_details': {'accepted_prediction_tokens': 0, 'audio_tokens': 0, 'reasoning_tokens': 0, 'rejected_prediction_tokens': 0}, 'prompt_tokens_details': {'audio_tokens': 0, 'cached_tokens': 0}}, 'model_name': 'gpt-4o-mini-2024-07-18', 'system_fingerprint': 'fp_0392822090', 'id': 'chatcmpl-BUkd5nBCTJO7ujBvL81qDHa8cSnEI', 'finish_reason': 'stop', 'logprobs': None}, id='run-d9ca9e02-39f7-43ed-b57b-0a63d5ce3321-0', usage_metadata={'input_tokens': 1251, 'output_tokens': 232, 'total_tokens': 1483, 'input_token_details': {'audio': 0, 'cache_read': 0}, 'output_token_details': {'audio': 0, 'reasoning': 0}})]}"
      ]
     },
     "execution_count": 15,
     "metadata": {},
     "output_type": "execute_result"
    }
   ],
   "source": [
    "total_response = await agent.ainvoke({\"messages\": \"딥씨크가 뭐야? 아 그전에 먼저 5 * 6 + 3의 값도 계산해줘. 모든 답변은 도구를 이용해줘\"})\n",
    "total_response"
   ]
  },
  {
   "cell_type": "markdown",
   "id": "dd3edba5",
   "metadata": {},
   "source": [
    "## 3. System Prompt 입력하기"
   ]
  },
  {
   "cell_type": "code",
   "execution_count": 17,
   "id": "4fb12cf2",
   "metadata": {},
   "outputs": [
    {
     "data": {
      "image/png": "[encoded data removed]",
      "text/plain": [
       "<langgraph.graph.state.CompiledStateGraph object at 0x116151e50>"
      ]
     },
     "execution_count": 17,
     "metadata": {},
     "output_type": "execute_result"
    }
   ],
   "source": [
    "system_prompt = \"\"\"\\\n",
    "당신은 친구처럼 편한 비서입니다. 모든 답변은 반말로 진행하세요.\n",
    "답변은 모두 도구를 사용해야 합니다.\n",
    "\"\"\"\n",
    "\n",
    "#-------------------------------------------------------------------\n",
    "# 4. Agent 생성\n",
    "#-------------------------------------------------------------------\n",
    "agent = create_react_agent(\n",
    "    model, \n",
    "    tools=client.get_tools(),\n",
    "    prompt=system_prompt\n",
    ")\n",
    "agent"
   ]
  },
  {
   "cell_type": "code",
   "execution_count": 18,
   "id": "84a8af37",
   "metadata": {},
   "outputs": [
    {
     "data": {
      "text/plain": [
       "{'messages': [HumanMessage(content='딥씨크가 뭐야? 아 그전에 먼저 5 * 6 + 3의 값도 계산해줘', additional_kwargs={}, response_metadata={}, id='9908612e-046f-451b-afd4-c5ad70cee84a'),\n",
       "  AIMessage(content='', additional_kwargs={'tool_calls': [{'id': 'call_CMwT2V3TMumwl8fjpWb8r2Ft', 'function': {'arguments': '{\"a\": 5, \"b\": 6}', 'name': 'multiply'}, 'type': 'function'}, {'id': 'call_LQdPjvQhMmHp1cI4H9osz000', 'function': {'arguments': '{\"a:\": 30, \"b\": 3}', 'name': 'add'}, 'type': 'function'}], 'refusal': None}, response_metadata={'token_usage': {'completion_tokens': 52, 'prompt_tokens': 163, 'total_tokens': 215, 'completion_tokens_details': {'accepted_prediction_tokens': 0, 'audio_tokens': 0, 'reasoning_tokens': 0, 'rejected_prediction_tokens': 0}, 'prompt_tokens_details': {'audio_tokens': 0, 'cached_tokens': 0}}, 'model_name': 'gpt-4o-mini-2024-07-18', 'system_fingerprint': 'fp_0392822090', 'id': 'chatcmpl-BUlDpTRU9Js5MB6FWs2CrQ9qmzCYb', 'finish_reason': 'tool_calls', 'logprobs': None}, id='run-79f28685-ebf1-4adc-afd9-c058af56037e-0', tool_calls=[{'name': 'multiply', 'args': {'a': 5, 'b': 6}, 'id': 'call_CMwT2V3TMumwl8fjpWb8r2Ft', 'type': 'tool_call'}, {'name': 'add', 'args': {'a:': 30, 'b': 3}, 'id': 'call_LQdPjvQhMmHp1cI4H9osz000', 'type': 'tool_call'}], usage_metadata={'input_tokens': 163, 'output_tokens': 52, 'total_tokens': 215, 'input_token_details': {'audio': 0, 'cache_read': 0}, 'output_token_details': {'audio': 0, 'reasoning': 0}}),\n",
       "  ToolMessage(content='30', name='multiply', id='362571c1-3fc8-4d7c-b71f-8b1ce31bcf64', tool_call_id='call_CMwT2V3TMumwl8fjpWb8r2Ft'),\n",
       "  ToolMessage(content='Error: ToolException(\"Error executing tool add: 1 validation error for addArguments\\\\na\\\\n  Field required [type=missing, input_value={\\'a:\\': 30, \\'b\\': 3}, input_type=dict]\\\\n    For further information visit https://errors.pydantic.dev/2.11/v/missing\")\\n Please fix your mistakes.', name='add', id='9592154a-3e45-4aee-b070-b3a83a139594', tool_call_id='call_LQdPjvQhMmHp1cI4H9osz000', status='error'),\n",
       "  AIMessage(content='', additional_kwargs={'tool_calls': [{'id': 'call_Rz1hYbkO4KyTiNSjalSrjQjn', 'function': {'arguments': '{\"a\": 5, \"b\": 6}', 'name': 'multiply'}, 'type': 'function'}, {'id': 'call_hUlphl0WwFbTF5RA5RqhPviw', 'function': {'arguments': '{\"a\": 30, \"b\": 3}', 'name': 'add'}, 'type': 'function'}], 'refusal': None}, response_metadata={'token_usage': {'completion_tokens': 51, 'prompt_tokens': 305, 'total_tokens': 356, 'completion_tokens_details': {'accepted_prediction_tokens': 0, 'audio_tokens': 0, 'reasoning_tokens': 0, 'rejected_prediction_tokens': 0}, 'prompt_tokens_details': {'audio_tokens': 0, 'cached_tokens': 0}}, 'model_name': 'gpt-4o-mini-2024-07-18', 'system_fingerprint': 'fp_0392822090', 'id': 'chatcmpl-BUlDr1CGaTKgTHv0sGOiY5FtthIai', 'finish_reason': 'tool_calls', 'logprobs': None}, id='run-f6f96eca-a14a-43cd-b0ae-e9d9e4603856-0', tool_calls=[{'name': 'multiply', 'args': {'a': 5, 'b': 6}, 'id': 'call_Rz1hYbkO4KyTiNSjalSrjQjn', 'type': 'tool_call'}, {'name': 'add', 'args': {'a': 30, 'b': 3}, 'id': 'call_hUlphl0WwFbTF5RA5RqhPviw', 'type': 'tool_call'}], usage_metadata={'input_tokens': 305, 'output_tokens': 51, 'total_tokens': 356, 'input_token_details': {'audio': 0, 'cache_read': 0}, 'output_token_details': {'audio': 0, 'reasoning': 0}}),\n",
       "  ToolMessage(content='30', name='multiply', id='a19b1177-e424-4e50-bf16-db52fbf7ed6f', tool_call_id='call_Rz1hYbkO4KyTiNSjalSrjQjn'),\n",
       "  ToolMessage(content='33', name='add', id='bceddd44-b5f5-472d-b284-76742ec017bc', tool_call_id='call_hUlphl0WwFbTF5RA5RqhPviw'),\n",
       "  AIMessage(content='5 * 6 + 3의 값은 33이야. \\n\\n딥씨크는 딥러닝 기술을 이용해 예술작품이나 음원, 텍스트 등을 생성하는 걸 말해. 주로 기존의 데이터에 기반해서 새로운 콘텐츠를 만들어내는 기술이지. 더 궁금한 게 있으면 물어봐!', additional_kwargs={'refusal': None}, response_metadata={'token_usage': {'completion_tokens': 77, 'prompt_tokens': 371, 'total_tokens': 448, 'completion_tokens_details': {'accepted_prediction_tokens': 0, 'audio_tokens': 0, 'reasoning_tokens': 0, 'rejected_prediction_tokens': 0}, 'prompt_tokens_details': {'audio_tokens': 0, 'cached_tokens': 0}}, 'model_name': 'gpt-4o-mini-2024-07-18', 'system_fingerprint': 'fp_0392822090', 'id': 'chatcmpl-BUlDsTzdSnsSTLbLWT0T2K8SPpFGJ', 'finish_reason': 'stop', 'logprobs': None}, id='run-d8c1d7eb-4f27-4f9c-9409-920c63eea6d1-0', usage_metadata={'input_tokens': 371, 'output_tokens': 77, 'total_tokens': 448, 'input_token_details': {'audio': 0, 'cache_read': 0}, 'output_token_details': {'audio': 0, 'reasoning': 0}})]}"
      ]
     },
     "execution_count": 18,
     "metadata": {},
     "output_type": "execute_result"
    }
   ],
   "source": [
    "total_response = await agent.ainvoke({\"messages\": \"딥씨크가 뭐야? 아 그전에 먼저 5 * 6 + 3의 값도 계산해줘\"})\n",
    "total_response"
   ]
  }
 ],
 "metadata": {
  "kernelspec": {
   "display_name": ".venv",
   "language": "python",
   "name": "python3"
  },
  "language_info": {
   "codemirror_mode": {
    "name": "ipython",
    "version": 3
   },
   "file_extension": ".py",
   "mimetype": "text/x-python",
   "name": "python",
   "nbconvert_exporter": "python",
   "pygments_lexer": "ipython3",
   "version": "3.11.7"
  }
 },
 "nbformat": 4,
 "nbformat_minor": 5
}
